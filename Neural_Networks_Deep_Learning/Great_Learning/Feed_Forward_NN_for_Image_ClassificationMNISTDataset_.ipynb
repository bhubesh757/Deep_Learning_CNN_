{
  "nbformat": 4,
  "nbformat_minor": 0,
  "metadata": {
    "colab": {
      "name": " Feed Forward NN for Image ClassificationMNISTDataset  .ipynb",
      "provenance": [],
      "private_outputs": true
    },
    "kernelspec": {
      "name": "python3",
      "display_name": "Python 3"
    }
  },
  "cells": [
    {
      "cell_type": "code",
      "metadata": {
        "id": "_KfaqbQYxGfd"
      },
      "source": [
        "import tensorflow as tf\n",
        "import keras"
      ],
      "execution_count": null,
      "outputs": []
    },
    {
      "cell_type": "markdown",
      "metadata": {
        "id": "QjFmhGdH1l4P"
      },
      "source": [
        "What is MNIST Dataset it is a images of handwritten images of numbers\n",
        "\n",
        "It is a multi class classifications prob since there are 10 digits of 0 , 1 , 2 ,...9.\n",
        "\n",
        "Each images sre in the size of same i.e 28x28 = 784 pixels , grayscale images"
      ]
    },
    {
      "cell_type": "code",
      "metadata": {
        "id": "joeHzWt-xTRg"
      },
      "source": [
        "# Load the Data\n",
        "mnist = tf.keras.datasets.mnist"
      ],
      "execution_count": null,
      "outputs": []
    },
    {
      "cell_type": "code",
      "metadata": {
        "id": "iwp-OxFNxThf"
      },
      "source": [
        "# Dividing into the parts\n",
        "(x_train , y_train) , (x_test , y_test) = mnist.load_data()"
      ],
      "execution_count": null,
      "outputs": []
    },
    {
      "cell_type": "code",
      "metadata": {
        "id": "avEpITRkxToW"
      },
      "source": [
        "x_train.shape"
      ],
      "execution_count": null,
      "outputs": []
    },
    {
      "cell_type": "code",
      "metadata": {
        "id": "PUrQZBY4xTmt"
      },
      "source": [
        "x_test.shape"
      ],
      "execution_count": null,
      "outputs": []
    },
    {
      "cell_type": "code",
      "metadata": {
        "id": "kChiN1QExTlX"
      },
      "source": [
        "y_train.shape"
      ],
      "execution_count": null,
      "outputs": []
    },
    {
      "cell_type": "code",
      "metadata": {
        "id": "iJAwdTXgxTfM"
      },
      "source": [
        "y_test.shape"
      ],
      "execution_count": null,
      "outputs": []
    },
    {
      "cell_type": "code",
      "metadata": {
        "id": "-21s_U8JxTdh"
      },
      "source": [
        "x_train , x_test = x_train/255.0 , x_test/255.0"
      ],
      "execution_count": null,
      "outputs": []
    },
    {
      "cell_type": "code",
      "metadata": {
        "id": "cMYdUrBoxTbW"
      },
      "source": [
        "x_train[1,10]"
      ],
      "execution_count": null,
      "outputs": []
    },
    {
      "cell_type": "code",
      "metadata": {
        "id": "A3oNmT5UxTaA"
      },
      "source": [
        "# Building our model\n",
        "model = tf.keras.models.Sequential([\n",
        "                                    tf.keras.layers.Flatten(input_shape= (28,28)),\n",
        "                                    tf.keras.layers.Dense(128 , activation='relu'),\n",
        "                                    tf.keras.layers.Dropout(0.2),\n",
        "                                    tf.keras.layers.Dense(10 , activation='softmax')\n",
        "])"
      ],
      "execution_count": null,
      "outputs": []
    },
    {
      "cell_type": "code",
      "metadata": {
        "id": "1jLfUSr8xTYH"
      },
      "source": [
        "# Compile the model\n",
        "model.compile(\n",
        "    optimizer='adam',\n",
        "    loss='sparse_categorical_crossentropy',\n",
        "    metrics=['accuracy']\n",
        ")"
      ],
      "execution_count": null,
      "outputs": []
    },
    {
      "cell_type": "code",
      "metadata": {
        "id": "b6icbB0NxTXA"
      },
      "source": [
        "# Train the model\n",
        "\n",
        "r = model.fit(\n",
        "    x_train,\n",
        "    y_train,\n",
        "    validation_data = (x_test , y_test),\n",
        "    epochs = 10\n",
        ")"
      ],
      "execution_count": null,
      "outputs": []
    },
    {
      "cell_type": "code",
      "metadata": {
        "id": "6hrIZKezxTVa"
      },
      "source": [
        "# plot Loss per Iteration\n",
        "import matplotlib.pyplot as plt\n",
        "plt.plot(r.history['loss'] , label = 'loss')\n",
        "plt.plot(r.history['val_loss'], label = 'val_loss')\n",
        "plt.legend();\n"
      ],
      "execution_count": null,
      "outputs": []
    },
    {
      "cell_type": "code",
      "metadata": {
        "id": "pOW0klmYTAxR"
      },
      "source": [
        "# plot Loss per Iteration\n",
        "# import matplotlib.pyplot as plt\n",
        "plt.plot(r.history['accuracy'] , label = 'accuracy')\n",
        "plt.plot(r.history['val_accuracy'], label = 'val_accuracy')\n",
        "plt.legend();\n"
      ],
      "execution_count": null,
      "outputs": []
    },
    {
      "cell_type": "code",
      "metadata": {
        "id": "0s1A8-MJTAug"
      },
      "source": [
        "# Evaluate the model\n",
        "print(model.evaluate(x_test , y_test))"
      ],
      "execution_count": null,
      "outputs": []
    },
    {
      "cell_type": "code",
      "metadata": {
        "id": "smSpqrU4TAr6"
      },
      "source": [
        "# obs => "
      ],
      "execution_count": null,
      "outputs": []
    },
    {
      "cell_type": "code",
      "metadata": {
        "id": "y0MA6Sa8xTQR"
      },
      "source": [
        "# Plot confusion matrix\n",
        "# Kindly dont focus on the details of implementation of the code below\n",
        "from sklearn.metrics import confusion_matrix\n",
        "import numpy as np\n",
        "import itertools\n",
        "\n",
        "def plot_confusion_matrix(cm, classes,\n",
        "                          normalize=False,\n",
        "                          title='Confusion matrix',\n",
        "                          cmap=plt.cm.Blues):\n",
        "  \"\"\"\n",
        "  This function prints and plots the confusion matrix.\n",
        "  Normalization can be applied by setting `normalize=True`.\n",
        "  \"\"\"\n",
        "  if normalize:\n",
        "      cm = cm.astype('float') / cm.sum(axis=1)[:, np.newaxis]\n",
        "      print(\"Normalized confusion matrix\")\n",
        "  else:\n",
        "      print('Confusion matrix, without normalization')\n",
        "\n",
        "  print(cm)\n",
        "\n",
        "  plt.imshow(cm, interpolation='nearest', cmap=cmap)\n",
        "  plt.title(title)\n",
        "  plt.colorbar()\n",
        "  tick_marks = np.arange(len(classes))\n",
        "  plt.xticks(tick_marks, classes, rotation=45)\n",
        "  plt.yticks(tick_marks, classes)\n",
        "\n",
        "  fmt = '.2f' if normalize else 'd'\n",
        "  thresh = cm.max() / 2.\n",
        "  for i, j in itertools.product(range(cm.shape[0]), range(cm.shape[1])):\n",
        "      plt.text(j, i, format(cm[i, j], fmt),\n",
        "               horizontalalignment=\"center\",\n",
        "               color=\"white\" if cm[i, j] > thresh else \"black\")\n",
        "\n",
        "  plt.tight_layout()\n",
        "  plt.ylabel('True label')\n",
        "  plt.xlabel('Predicted label')\n",
        "  plt.show()\n",
        "\n",
        "\n",
        "p_test = model.predict(x_test).argmax(axis=1)\n",
        "cm = confusion_matrix(y_test, p_test)\n",
        "plot_confusion_matrix(cm, list(range(10)))\n",
        "\n",
        "# Do these results make sense?\n",
        "# It's easy to confuse 9 <--> 4, 9 <--> 7, 2 <--> 7, etc. "
      ],
      "execution_count": null,
      "outputs": []
    },
    {
      "cell_type": "code",
      "metadata": {
        "id": "z4lr0v7yxTNZ"
      },
      "source": [
        " misclassified_img = np.where(p_test!= y_test)[0]\n",
        " i = np.random.choice(misclassified_img)\n",
        " plt.imshow(x_test[i] , cmap = 'gray')\n",
        " plt.title('True Label: , %s Predicted label: %s' %(y_test[i] , p_test[i]))"
      ],
      "execution_count": null,
      "outputs": []
    },
    {
      "cell_type": "markdown",
      "metadata": {
        "id": "Oeie5zQeVI89"
      },
      "source": [
        ""
      ]
    },
    {
      "cell_type": "code",
      "metadata": {
        "id": "WfwC7RZeUpCk"
      },
      "source": [
        " misclassified_img = np.where(p_test!= y_test)[0]\n",
        " i = np.random.choice(misclassified_img)\n",
        " plt.imshow(x_test[i] , cmap = 'gray')\n",
        " plt.title('True Label: , %s Predicted label: %s' %(y_test[i] , p_test[i]))"
      ],
      "execution_count": null,
      "outputs": []
    },
    {
      "cell_type": "code",
      "metadata": {
        "id": "RDXaovyFVKsU"
      },
      "source": [
        " misclassified_img = np.where(p_test!= y_test)[0]\n",
        " i = np.random.choice(misclassified_img)\n",
        " plt.imshow(x_test[i] , cmap = 'gray')\n",
        " plt.title('True Label: , %s Predicted label: %s' %(y_test[i] , p_test[i]))"
      ],
      "execution_count": null,
      "outputs": []
    },
    {
      "cell_type": "code",
      "metadata": {
        "id": "7IykXR2VVKyx"
      },
      "source": [
        " misclassified_img = np.where(p_test!= y_test)[0]\n",
        " i = np.random.choice(misclassified_img)\n",
        " plt.imshow(x_test[i] , cmap = 'gray')\n",
        " plt.title('True Label: , %s Predicted label: %s' %(y_test[i] , p_test[i]))"
      ],
      "execution_count": null,
      "outputs": []
    },
    {
      "cell_type": "code",
      "metadata": {
        "id": "1nHmLn35VK3H"
      },
      "source": [
        ""
      ],
      "execution_count": null,
      "outputs": []
    },
    {
      "cell_type": "code",
      "metadata": {
        "id": "Be1wEo9uVKwU"
      },
      "source": [
        ""
      ],
      "execution_count": null,
      "outputs": []
    }
  ]
}