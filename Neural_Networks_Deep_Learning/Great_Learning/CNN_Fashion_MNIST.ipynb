{
  "nbformat": 4,
  "nbformat_minor": 0,
  "metadata": {
    "colab": {
      "name": "CNN Fashion MNIST.ipynb",
      "provenance": []
    },
    "kernelspec": {
      "name": "python3",
      "display_name": "Python 3"
    }
  },
  "cells": [
    {
      "cell_type": "code",
      "metadata": {
        "id": "fUfkPzC1I7mf"
      },
      "source": [
        "import tensorflow as tf\n",
        "import keras"
      ],
      "execution_count": null,
      "outputs": []
    },
    {
      "cell_type": "code",
      "metadata": {
        "id": "wMQpwu_Ta7ev"
      },
      "source": [
        "import numpy as np\n",
        "import matplotlib.pyplot as plt\n",
        "from tensorflow.keras.layers import Input , Conv2D,Dense , Flatten , Dropout\n",
        "from tensorflow.keras.models import Model # Model why?"
      ],
      "execution_count": null,
      "outputs": []
    },
    {
      "cell_type": "code",
      "metadata": {
        "id": "pxMDCDdia7dU"
      },
      "source": [
        "# Classification\n",
        "fashion_mnist = tf.keras.datasets.fashion_mnist"
      ],
      "execution_count": null,
      "outputs": []
    },
    {
      "cell_type": "code",
      "metadata": {
        "id": "Ne_xnfMPa7b-"
      },
      "source": [
        "(x_train , y_train) , (x_test , y_test) = fashion_mnist.load_data()"
      ],
      "execution_count": null,
      "outputs": []
    },
    {
      "cell_type": "code",
      "metadata": {
        "id": "iBOuh-Zha7a0"
      },
      "source": [
        "x_train.shape"
      ],
      "execution_count": null,
      "outputs": []
    },
    {
      "cell_type": "code",
      "metadata": {
        "id": "UTWkot0Ea7Z3"
      },
      "source": [
        "x_train[0]\n",
        "# gray scale values between the 0 to 255"
      ],
      "execution_count": null,
      "outputs": []
    },
    {
      "cell_type": "code",
      "metadata": {
        "id": "GQNQmQlWa7Ye"
      },
      "source": [
        "# Standardization using scaling\n",
        "\n",
        "x_train , x_test = x_train/255.0 , x_test/255.0"
      ],
      "execution_count": null,
      "outputs": []
    },
    {
      "cell_type": "code",
      "metadata": {
        "id": "nRPKrDTJcw8X"
      },
      "source": [
        "x_train.shape"
      ],
      "execution_count": null,
      "outputs": []
    },
    {
      "cell_type": "code",
      "metadata": {
        "id": "Dvx3PmSdcxE-"
      },
      "source": [
        "x_train[0]\n",
        "# scaled"
      ],
      "execution_count": null,
      "outputs": []
    },
    {
      "cell_type": "code",
      "metadata": {
        "id": "vbbdMVEccxDG"
      },
      "source": [
        "x_test.shape"
      ],
      "execution_count": null,
      "outputs": []
    },
    {
      "cell_type": "code",
      "metadata": {
        "id": "eJAzfLT8cxAu"
      },
      "source": [
        "x_test[0]"
      ],
      "execution_count": null,
      "outputs": []
    },
    {
      "cell_type": "code",
      "metadata": {
        "id": "Eq1Kp99ccw6F"
      },
      "source": [
        "x_train = np.expand_dims(x_train , -1)\n",
        "x_test = np.expand_dims(x_test , -1)"
      ],
      "execution_count": null,
      "outputs": []
    },
    {
      "cell_type": "code",
      "metadata": {
        "id": "t10ImnmgdkaL"
      },
      "source": [
        "x_train.shape"
      ],
      "execution_count": null,
      "outputs": []
    },
    {
      "cell_type": "code",
      "metadata": {
        "id": "q2XCFCYidken"
      },
      "source": [
        "x_test.shape"
      ],
      "execution_count": null,
      "outputs": []
    },
    {
      "cell_type": "code",
      "metadata": {
        "id": "HFAWnM7idk4_"
      },
      "source": [
        "# Number of classes\n",
        "K = len(set(y_train))\n",
        "print(' the number of classes :' , K)"
      ],
      "execution_count": null,
      "outputs": []
    },
    {
      "cell_type": "code",
      "metadata": {
        "id": "2vLp-zMBdk8i"
      },
      "source": [
        "# Functional API? Search "
      ],
      "execution_count": null,
      "outputs": []
    },
    {
      "cell_type": "code",
      "metadata": {
        "id": "vuv87drjdk2H"
      },
      "source": [
        "x_train[0].shape"
      ],
      "execution_count": null,
      "outputs": []
    },
    {
      "cell_type": "code",
      "metadata": {
        "id": "aYU4EYRzdkzz"
      },
      "source": [
        "# Building the model using the Funcional API\n",
        "\n",
        "i = Input(shape = x_train[0].shape)\n",
        "x = Conv2D(32 , (3,3) , strides=2 , activation='relu')(i)\n",
        "x = Conv2D(64 , (3,3) , strides=2 , activation='relu')(x)\n",
        "x = Conv2D(128 , (3,3) , strides=2 , activation='relu')(x)\n",
        "x = Flatten()(x)\n",
        "x = Dropout(0.2)(x)\n",
        "# Dense layer NN \n",
        "x = Dense(512 , activation='relu')(x)\n",
        "x = Dropout(0.2)(x)\n",
        "x = Dense(K , activation='softmax')(x)\n",
        "\n",
        "model = Model(i , x)"
      ],
      "execution_count": null,
      "outputs": []
    },
    {
      "cell_type": "code",
      "metadata": {
        "id": "-WEeOvWDdkxh"
      },
      "source": [
        "# compile nad fit the model\n",
        "\n",
        "model.compile(optimizer='adam',\n",
        "              loss = 'sparse_categorical_crossentropy',\n",
        "              metrics = ['accuracy'],\n",
        "              )\n",
        "r = model.fit(x_train , y_train , validation_data=(x_test , y_test),\n",
        "              epochs = 15)"
      ],
      "execution_count": null,
      "outputs": []
    },
    {
      "cell_type": "code",
      "metadata": {
        "id": "eVLipcmFdkta"
      },
      "source": [
        ""
      ],
      "execution_count": null,
      "outputs": []
    },
    {
      "cell_type": "code",
      "metadata": {
        "id": "7UEs4rA4dkrm"
      },
      "source": [
        "# plot the loss per iteration\n",
        "plt.plot(r.history['loss'] , label = 'loss')\n",
        "plt.plot(r.history['val_loss'] , label = 'val_loss')\n",
        "plt.legend()"
      ],
      "execution_count": null,
      "outputs": []
    },
    {
      "cell_type": "code",
      "metadata": {
        "id": "3mcEdOvWdkpb"
      },
      "source": [
        "# plot the accuracy per iteration\n",
        "\n",
        "plt.plot(r.history['accuracy'] , label = 'accuracy')\n",
        "plt.plot(r.history['val_accuracy'] , label = 'val_accuracy')\n",
        "plt.legend()"
      ],
      "execution_count": null,
      "outputs": []
    },
    {
      "cell_type": "code",
      "metadata": {
        "id": "lRid6AtVdknq"
      },
      "source": [
        "# confusion Matrix\n",
        "from sklearn.metrics import confusion_matrix\n",
        "import itertools\n",
        "\n",
        "def plot_confusion_matrix(cm, classes,\n",
        "                          normalize=False,\n",
        "                          title='Confusion matrix',\n",
        "                          cmap=plt.cm.Blues):\n",
        "  \"\"\"\n",
        "  This function prints and plots the confusion matrix.\n",
        "  Normalization can be applied by setting `normalize=True`.\n",
        "  \"\"\"\n",
        "  if normalize:\n",
        "      cm = cm.astype('float') / cm.sum(axis=1)[:, np.newaxis]\n",
        "      print(\"Normalized confusion matrix\")\n",
        "  else:\n",
        "      print('Confusion matrix, without normalization')\n",
        "\n",
        "  print(cm)\n",
        "\n",
        "  plt.imshow(cm, interpolation='nearest', cmap=cmap)\n",
        "  plt.title(title)\n",
        "  plt.colorbar()\n",
        "  tick_marks = np.arange(len(classes))\n",
        "  plt.xticks(tick_marks, classes, rotation=45)\n",
        "  plt.yticks(tick_marks, classes)\n",
        "\n",
        "  fmt = '.2f' if normalize else 'd'\n",
        "  thresh = cm.max() / 2.\n",
        "  for i, j in itertools.product(range(cm.shape[0]), range(cm.shape[1])):\n",
        "      plt.text(j, i, format(cm[i, j], fmt),\n",
        "               horizontalalignment=\"center\",\n",
        "               color=\"white\" if cm[i, j] > thresh else \"black\")\n",
        "\n",
        "  plt.tight_layout()\n",
        "  plt.ylabel('True label')\n",
        "  plt.xlabel('Predicted label')\n",
        "  plt.show()\n",
        "\n",
        "\n",
        "p_test = model.predict(x_test).argmax(axis=1)\n",
        "cm = confusion_matrix(y_test, p_test)\n",
        "plot_confusion_matrix(cm, list(range(10)))"
      ],
      "execution_count": null,
      "outputs": []
    },
    {
      "cell_type": "code",
      "metadata": {
        "id": "pegV_9L9dkmf"
      },
      "source": [
        "# label mapping ?\n",
        "labels = ''' T-shirt\n",
        "Trouser \n",
        "Pullover\n",
        "Dress\n",
        "Coat\n",
        "Sandal\n",
        "Shirt\n",
        "Sneaker\n",
        "Bag\n",
        "Ankle Boot''' .split('\\n')\n",
        "\n",
        "labels"
      ],
      "execution_count": null,
      "outputs": []
    },
    {
      "cell_type": "code",
      "metadata": {
        "id": "Plr7xgb0dkkg"
      },
      "source": [
        "# Let us show the misclassified \n",
        "\n",
        "misclassified_img = np.where(p_test != y_test)[0]\n",
        "i = np.random.choice(misclassified_img)\n",
        "plt.imshow(x_test[i].reshape(28, 28) , cmap = 'gray')\n",
        "plt.title('True label: %s Predicted : %s' %(labels[y_test[i]] , labels[p_test[i]]));"
      ],
      "execution_count": null,
      "outputs": []
    },
    {
      "cell_type": "code",
      "metadata": {
        "id": "BuE-C5Z3dkYt"
      },
      "source": [
        "# Let us show the misclassified \n",
        "\n",
        "misclassified_img = np.where(p_test != y_test)[0]\n",
        "i = np.random.choice(misclassified_img)\n",
        "plt.imshow(x_test[i].reshape(28, 28) , cmap = 'gray')\n",
        "plt.title('True label: %s Predicted : %s' %(labels[y_test[i]] , labels[p_test[i]]));"
      ],
      "execution_count": null,
      "outputs": []
    },
    {
      "cell_type": "code",
      "metadata": {
        "id": "u3V6HcAydkXD"
      },
      "source": [
        "# Let us show the misclassified \n",
        "\n",
        "misclassified_img = np.where(p_test != y_test)[0]\n",
        "i = np.random.choice(misclassified_img)\n",
        "plt.imshow(x_test[i].reshape(28, 28) , cmap = 'gray')\n",
        "plt.title('True label: %s Predicted : %s' %(labels[y_test[i]] , labels[p_test[i]]));"
      ],
      "execution_count": null,
      "outputs": []
    },
    {
      "cell_type": "code",
      "metadata": {
        "id": "kSBPhEoWa7Vl"
      },
      "source": [
        "# Let us show the misclassified \n",
        "\n",
        "misclassified_img = np.where(p_test != y_test)[0]\n",
        "i = np.random.choice(misclassified_img)\n",
        "plt.imshow(x_test[i].reshape(28, 28) , cmap = 'gray')\n",
        "plt.title('True label: %s Predicted : %s' %(labels[y_test[i]] , labels[p_test[i]]));"
      ],
      "execution_count": null,
      "outputs": []
    },
    {
      "cell_type": "code",
      "metadata": {
        "id": "lVk5nWPTa7Ua"
      },
      "source": [
        "# Let us show the misclassified \n",
        "\n",
        "misclassified_img = np.where(p_test != y_test)[0]\n",
        "i = np.random.choice(misclassified_img)\n",
        "plt.imshow(x_test[i].reshape(28, 28) , cmap = 'gray')\n",
        "plt.title('True label: %s Predicted : %s' %(labels[y_test[i]] , labels[p_test[i]]));"
      ],
      "execution_count": null,
      "outputs": []
    },
    {
      "cell_type": "code",
      "metadata": {
        "id": "GZ0nRKEWa7QC"
      },
      "source": [
        "# Let us show the misclassified \n",
        "\n",
        "misclassified_img = np.where(p_test != y_test)[0]\n",
        "i = np.random.choice(misclassified_img)\n",
        "plt.imshow(x_test[i].reshape(28, 28) , cmap = 'gray')\n",
        "plt.title('True label: %s Predicted : %s' %(labels[y_test[i]] , labels[p_test[i]]));"
      ],
      "execution_count": null,
      "outputs": []
    },
    {
      "cell_type": "code",
      "metadata": {
        "id": "gTPiw7pkGBFC",
        "outputId": "fec63278-f044-4e59-c5bb-274bf23a0e58",
        "colab": {
          "base_uri": "https://localhost:8080/",
          "height": 281
        }
      },
      "source": [
        "# Let us show the misclassified \n",
        "\n",
        "misclassified_img = np.where(p_test != y_test)[0]\n",
        "i = np.random.choice(misclassified_img)\n",
        "plt.imshow(x_test[i].reshape(28, 28) , cmap = 'gray')\n",
        "plt.title('True label: %s Predicted : %s' %(labels[y_test[i]] , labels[p_test[i]]));"
      ],
      "execution_count": 48,
      "outputs": [
        {
          "output_type": "display_data",
          "data": {
            "image/png": "[encoded data removed]",
            "text/plain": [
              "<Figure size 432x288 with 1 Axes>"
            ]
          },
          "metadata": {
            "tags": [],
            "needs_background": "light"
          }
        }
      ]
    },
    {
      "cell_type": "code",
      "metadata": {
        "id": "XcqNsyf4GBKt"
      },
      "source": [
        ""
      ],
      "execution_count": null,
      "outputs": []
    },
    {
      "cell_type": "code",
      "metadata": {
        "id": "MTFLIRYAGBC5"
      },
      "source": [
        ""
      ],
      "execution_count": null,
      "outputs": []
    },
    {
      "cell_type": "code",
      "metadata": {
        "id": "TmqZoSSuGA_x"
      },
      "source": [
        ""
      ],
      "execution_count": null,
      "outputs": []
    },
    {
      "cell_type": "code",
      "metadata": {
        "id": "ExKp-1Qua7Ow"
      },
      "source": [
        ""
      ],
      "execution_count": null,
      "outputs": []
    }
  ]
}